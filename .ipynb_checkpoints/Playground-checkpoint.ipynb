{
 "cells": [
  {
   "cell_type": "markdown",
   "metadata": {},
   "source": [
    "# Divisions for a deep network\n",
    "---\n",
    "\n",
    "The Single Deep NN is defined below"
   ]
  },
  {
   "cell_type": "code",
   "execution_count": 27,
   "metadata": {},
   "outputs": [
    {
     "name": "stdout",
     "output_type": "stream",
     "text": [
      "M = 32, L = 16\n",
      "174634\n"
     ]
    }
   ],
   "source": [
    "class Net:\n",
    "    \n",
    "    def __init__(self,M,L):\n",
    "        self.M = M\n",
    "        self.L = L\n",
    "    \n",
    "    def V(self):\n",
    "        return 8*8*3*self.M\n",
    "    \n",
    "    def W(self):\n",
    "        return (3*3*self.M*self.M*self.L) + (self.M*(self.L+1))\n",
    "\n",
    "    def F(self):\n",
    "        return (64*self.M*10) + 10\n",
    "    \n",
    "    def total(self):\n",
    "        return self.V() + self.W() + self.F()\n",
    "    \n",
    "L = 16\n",
    "M = 32\n",
    "S = Net(M = M, L = L)\n",
    "print('M = {}, L = {}'.format(M, L))\n",
    "print(S.total())"
   ]
  },
  {
   "cell_type": "markdown",
   "metadata": {},
   "source": [
    "### A - Horizontal Division\n",
    "![](images/A_horizontal.png)\n"
   ]
  },
  {
   "cell_type": "code",
   "execution_count": 28,
   "metadata": {},
   "outputs": [],
   "source": [
    "# In Horizontal Division we need to calculate Me given Le = L or a custom Le\n",
    "\n",
    "# A: Get the value of M keeping L the same as the deep network:\n",
    "def getM(S,K):\n",
    "    ensemble_network = Net(M = 1, L = S.L)\n",
    "    budget = S.total()/K\n",
    "    if K == 1:\n",
    "        return S.M\n",
    "        \n",
    "    # print(\"Budget: \" + str(budget))\n",
    "    for M in range(S.M):\n",
    "        ensemble_network.M = M\n",
    "        if ensemble_network.total() > budget:\n",
    "            return M-1\n",
    "\n",
    "# AB: Get the value of M given an L different from the deep network:\n",
    "def getM_L(S,K,L):\n",
    "    ensemble_network = Net(M = 1, L = L)\n",
    "    budget = S.total()/K\n",
    "\n",
    "    # sweep M\n",
    "    for M in range(S.M):\n",
    "        ensemble_network.M = M\n",
    "        if ensemble_network.total() == budget:\n",
    "            return M\n",
    "        if ensemble_network.total() > budget:\n",
    "            return M-1\n",
    "    return -1"
   ]
  },
  {
   "cell_type": "code",
   "execution_count": 36,
   "metadata": {},
   "outputs": [
    {
     "name": "stdout",
     "output_type": "stream",
     "text": [
      "Me = 14, Le = 16\n",
      "4.352791625124626\n",
      "Me = 25, Le = 4\n",
      "4.020582479567169\n"
     ]
    }
   ],
   "source": [
    "## A: HORIZONTAL DIVISION: Fix L, K --> Divide M \n",
    "Le = S.L\n",
    "Me = getM(S, K=4)\n",
    "Ek = Net(M = Me, L=Le)\n",
    "print('Me = {}, Le = {}'.format(Me, Le))\n",
    "print(S.total() / Ek.total())\n",
    "\n",
    "## AB: CONDITIONED HORIZONTAL DIVISION: Fix K, Choose L --> Divide M\n",
    "Le = 4\n",
    "Me = getM_L(S, L=Le, K=4)\n",
    "Ek = Net(M = Me, L = Le)\n",
    "print('Me = {}, Le = {}'.format(Me, Le))\n",
    "print(S.total() / Ek.total())"
   ]
  },
  {
   "cell_type": "markdown",
   "metadata": {},
   "source": [
    "### B - Vertical Division\n",
    "![](images/B_vertical.png)"
   ]
  },
  {
   "cell_type": "code",
   "execution_count": 37,
   "metadata": {},
   "outputs": [],
   "source": [
    "# In Horizontal Division we need to calculate Le given Me = M or a custom Me\n",
    "\n",
    "# Get the value of L keeping M the same as the deep network:\n",
    "def getL(S,K):\n",
    "    ensemble_network = Net(M = 1, L = S.L)\n",
    "    budget = S.total()/K\n",
    "    print(\"Budget: \" + str(budget))\n",
    "    for L in range(S.L):\n",
    "        ensemble_network.L = L\n",
    "        if ensemble_network.total() > budget:\n",
    "            return L-1\n",
    "    return L  ## TODO: M=1 is allowing to have Le > L for k=4 and returns None\n",
    "\n",
    "# Get the value of L keeping given an M different from the deep network:\n",
    "def getL_M(S,K,M):\n",
    "    ensemble_network = Net(M = M , L = S.L)\n",
    "    budget = S.total()/K\n",
    "    \n",
    "    for L in range(S.L):\n",
    "        ensemble_network.L = L\n",
    "        if ensemble_network.total() == budget:\n",
    "            return L\n",
    "        if ensemble_network.total() > budget:\n",
    "            return L-1\n",
    "    return -1"
   ]
  },
  {
   "cell_type": "code",
   "execution_count": 38,
   "metadata": {},
   "outputs": [
    {
     "name": "stdout",
     "output_type": "stream",
     "text": [
      "Budget: 43658.5\n",
      "Me = 32, Le = 15\n",
      "1.0559176713869372\n",
      "Me = 16, Le = 13\n",
      "4.014759299278127\n"
     ]
    }
   ],
   "source": [
    "## B: VERTICAL DIVISION: Fix M, K --> Divide L\n",
    "Me = S.M\n",
    "Le = getL(S, K = 4)\n",
    "Ek = Net(M = Me, L = Le)\n",
    "print('Me = {}, Le = {}'.format(Me, Le))\n",
    "print(S.total() / Ek.total())\n",
    "\n",
    "## BA: CONDITIONED VERICAL DIVISION: Fix K, Choose M --> Divide L\n",
    "Me = 16\n",
    "Le = getL_M(S = S, M = Me, K = 4)\n",
    "Ek = Net(M = Me, L = Le)\n",
    "print('Me = {}, Le = {}'.format(Me, Le))     ## Le should be being greater than 15\n",
    "print(S.total() / Ek.total())"
   ]
  },
  {
   "cell_type": "markdown",
   "metadata": {},
   "source": [
    "### C - Recursive Division\n",
    "![](images/C_recursive.png)"
   ]
  },
  {
   "cell_type": "code",
   "execution_count": 35,
   "metadata": {},
   "outputs": [
    {
     "name": "stdout",
     "output_type": "stream",
     "text": [
      "4.862560561340981\n",
      "6.003437725600743\n"
     ]
    }
   ],
   "source": [
    "## CA: RECURSIVE: Fix Le = 1, Choose M --> Calculate Ensemble Size allowed\n",
    "Le = 1\n",
    "Me = S.M\n",
    "Ek = Net(M = Me, L = Le)\n",
    "print(S.total() / Ek.total())\n",
    "\n",
    "## CA: RECURSIVE: Fix Le = 1, Choose K --> Calculate Me allowed to use\n",
    "K = 6\n",
    "Le = 1\n",
    "Me = getM_L(S, L=Le, K=K)\n",
    "Ek = Net(M = Me, L = Le)\n",
    "print(S.total() / Ek.total())"
   ]
  },
  {
   "cell_type": "code",
   "execution_count": null,
   "metadata": {},
   "outputs": [],
   "source": []
  }
 ],
 "metadata": {
  "kernelspec": {
   "display_name": "Python 3",
   "language": "python",
   "name": "python3"
  },
  "language_info": {
   "codemirror_mode": {
    "name": "ipython",
    "version": 3
   },
   "file_extension": ".py",
   "mimetype": "text/x-python",
   "name": "python",
   "nbconvert_exporter": "python",
   "pygments_lexer": "ipython3",
   "version": "3.7.2"
  },
  "varInspector": {
   "cols": {
    "lenName": 16,
    "lenType": 16,
    "lenVar": 40
   },
   "kernels_config": {
    "python": {
     "delete_cmd_postfix": "",
     "delete_cmd_prefix": "del ",
     "library": "var_list.py",
     "varRefreshCmd": "print(var_dic_list())"
    },
    "r": {
     "delete_cmd_postfix": ") ",
     "delete_cmd_prefix": "rm(",
     "library": "var_list.r",
     "varRefreshCmd": "cat(var_dic_list()) "
    }
   },
   "types_to_exclude": [
    "module",
    "function",
    "builtin_function_or_method",
    "instance",
    "_Feature"
   ],
   "window_display": false
  }
 },
 "nbformat": 4,
 "nbformat_minor": 2
}
