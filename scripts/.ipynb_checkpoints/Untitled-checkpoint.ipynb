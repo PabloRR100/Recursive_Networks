{
 "cells": [
  {
   "cell_type": "code",
   "execution_count": 1,
   "metadata": {},
   "outputs": [
    {
     "name": "stderr",
     "output_type": "stream",
     "text": [
      "usage: __main__.py [-h] [--lr LR] [--layers LAYERS] [--batch BATCH]\n",
      "                   [--epochs EPOCHS] [--filters FILTERS] [--ensemble ENSEMBLE]\n",
      "                   [--resume] [--comments COMMENTS]\n",
      "__main__.py: error: unrecognized arguments: -f /home/ec2-user/.local/share/jupyter/runtime/kernel-bcbab762-5f1d-41f7-9f03-716b09c3c7d3.json\n"
     ]
    },
    {
     "ename": "SystemExit",
     "evalue": "2",
     "output_type": "error",
     "traceback": [
      "An exception has occurred, use %tb to see the full traceback.\n",
      "\u001b[0;31mSystemExit\u001b[0m\u001b[0;31m:\u001b[0m 2\n"
     ]
    }
   ],
   "source": [
    "import os\n",
    "import sys\n",
    "import pickle\n",
    "import argparse\n",
    "\n",
    "import torch\n",
    "import torch.nn as nn\n",
    "import torch.optim as optim\n",
    "import torch.backends.cudnn as cudnn\n",
    "\n",
    "import torch.multiprocessing\n",
    "torch.multiprocessing.set_sharing_strategy('file_system')\n",
    "\n",
    "from utils import avoidWarnings\n",
    "from beautifultable import BeautifulTable as BT\n",
    "\n",
    "avoidWarnings()\n",
    "\n",
    "''' OPTIMIZER PARAMETERS - Analysis on those '''\n",
    "\n",
    "best_acc = 0  \n",
    "start_epoch = 0  \n",
    "num_epochs = 200  ## TODO: set to args.epochs\n",
    "batch_size = 128  ## TODO: set to args.barch\n",
    "milestones = [100, 150]\n",
    "\n",
    "L = args.layers\n",
    "M = args.filters\n",
    "E = args.ensemble\n",
    " \n",
    "comments = args.comments\n",
    "n_workers = torch.multiprocessing.cpu_count()\n",
    "device = 'cuda' if torch.cuda.is_available() else 'cpu'\n",
    "gpus = True if torch.cuda.device_count() > 1 else False\n",
    "device_name = torch.cuda.get_device_name(0) if device == 'cuda' else 'CPUs'\n",
    "    \n",
    "table = BT()\n",
    "table.append_row(['Python Version', sys.version[:5]])\n",
    "table.append_row(['PyTorch Version', torch.__version__])\n",
    "table.append_row(['Device', str(device_name)])\n",
    "table.append_row(['Cores', str(n_workers)])\n",
    "table.append_row(['GPUs', str(torch.cuda.device_count())])\n",
    "table.append_row(['CUDNN Enabled', str(torch.backends.cudnn.enabled)])\n",
    "table.append_row(['Architecture', 'DenseNet x7'])\n",
    "table.append_row(['Dataset', 'CIFAR10'])\n",
    "table.append_row(['Epochs', str(num_epochs)])\n",
    "table.append_row(['Batch Size', str(batch_size)])\n",
    "\n",
    "print(table)"
   ]
  },
  {
   "cell_type": "code",
   "execution_count": null,
   "metadata": {},
   "outputs": [],
   "source": []
  }
 ],
 "metadata": {
  "kernelspec": {
   "display_name": "Environment (conda_pytorch_p36)",
   "language": "python",
   "name": "conda_pytorch_p36"
  },
  "language_info": {
   "codemirror_mode": {
    "name": "ipython",
    "version": 3
   },
   "file_extension": ".py",
   "mimetype": "text/x-python",
   "name": "python",
   "nbconvert_exporter": "python",
   "pygments_lexer": "ipython3",
   "version": "3.6.5"
  }
 },
 "nbformat": 4,
 "nbformat_minor": 2
}
